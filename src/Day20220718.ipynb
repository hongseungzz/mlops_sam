{
 "cells": [
  {
   "cell_type": "code",
   "execution_count": 1,
   "id": "a62e277d-833e-46a1-8750-09f46a0a32e0",
   "metadata": {},
   "outputs": [
    {
     "name": "stdout",
     "output_type": "stream",
     "text": [
      "numpy version 1.23.1\n",
      "pandas version 1.4.3\n",
      "matplotlib version 3.5.2\n",
      "seaborn version 0.11.2\n",
      "sklearn version 1.1.1\n",
      "MLFlow version 1.27.0\n"
     ]
    }
   ],
   "source": [
    "%matplotlib inline\n",
    "\n",
    "import numpy as np \n",
    "import pandas as pd \n",
    "import matplotlib as mpl\n",
    "import matplotlib.pyplot as plt \n",
    "import sklearn\n",
    "import seaborn as sns\n",
    "import mlflow \n",
    "import mlflow.sklearn\n",
    "from sklearn.linear_model import LogisticRegression\n",
    "from sklearn.model_selection import train_test_split, KFold\n",
    "from sklearn.preprocessing import StandardScaler\n",
    "from sklearn.metrics import roc_auc_score, plot_roc_curve, confusion_matrix \n",
    "\n",
    "print(f\"numpy version {np.__version__}\")\n",
    "print(f\"pandas version {pd.__version__}\")\n",
    "print(f\"matplotlib version {mpl.__version__}\")\n",
    "print(f\"seaborn version {sns.__version__}\")\n",
    "print(f\"sklearn version {sklearn.__version__}\")\n",
    "print(f\"MLFlow version {mlflow.__version__}\")"
   ]
  },
  {
   "cell_type": "markdown",
   "id": "d2b8452b-1639-447e-914b-c318d47e4dbb",
   "metadata": {},
   "source": [
    "## 데이터 불러오기"
   ]
  },
  {
   "cell_type": "code",
   "execution_count": 2,
   "id": "6472cdaf-3b3d-44b5-8779-93651d81269a",
   "metadata": {},
   "outputs": [
    {
     "data": {
      "text/plain": [
       "((891, 12), (418, 11), (418, 2))"
      ]
     },
     "execution_count": 2,
     "metadata": {},
     "output_type": "execute_result"
    }
   ],
   "source": [
    "import os\n",
    "\n",
    "# print(os.getcwd())\n",
    "DATA_PATH = 'C:\\\\Users\\\\human\\\\Desktop\\\\mlops_sam\\\\data\\\\sales_forecast\\\\'\n",
    "\n",
    "train_df = pd.read_csv(DATA_PATH + 'train.csv')\n",
    "test = pd.read_csv(DATA_PATH + 'test.csv')\n",
    "submission = pd.read_csv(DATA_PATH + 'gender_submission.csv')\n",
    "\n",
    "train_df.shape, test.shape, submission.shape"
   ]
  },
  {
   "cell_type": "markdown",
   "id": "54efa907-776d-475e-9981-1f5594e1c7b1",
   "metadata": {},
   "source": [
    "- 데이터 탐색"
   ]
  },
  {
   "cell_type": "code",
   "execution_count": 3,
   "id": "5d78130c-78b1-42fe-8b42-046c55644f12",
   "metadata": {},
   "outputs": [
    {
     "name": "stdout",
     "output_type": "stream",
     "text": [
      "<class 'pandas.core.frame.DataFrame'>\n",
      "RangeIndex: 891 entries, 0 to 890\n",
      "Data columns (total 12 columns):\n",
      " #   Column       Non-Null Count  Dtype  \n",
      "---  ------       --------------  -----  \n",
      " 0   PassengerId  891 non-null    int64  \n",
      " 1   Survived     891 non-null    int64  \n",
      " 2   Pclass       891 non-null    int64  \n",
      " 3   Name         891 non-null    object \n",
      " 4   Sex          891 non-null    object \n",
      " 5   Age          714 non-null    float64\n",
      " 6   SibSp        891 non-null    int64  \n",
      " 7   Parch        891 non-null    int64  \n",
      " 8   Ticket       891 non-null    object \n",
      " 9   Fare         891 non-null    float64\n",
      " 10  Cabin        204 non-null    object \n",
      " 11  Embarked     889 non-null    object \n",
      "dtypes: float64(2), int64(5), object(5)\n",
      "memory usage: 83.7+ KB\n"
     ]
    }
   ],
   "source": [
    "train_df.info()"
   ]
  },
  {
   "cell_type": "markdown",
   "id": "53fe3dfa-1ca0-4007-b628-fdf2cfab74f9",
   "metadata": {},
   "source": [
    "- Age, Cabin, Embarked에 대해 결측치 존재"
   ]
  },
  {
   "cell_type": "markdown",
   "id": "24018429-a7f5-41d8-8f93-4596f4ce7b10",
   "metadata": {},
   "source": [
    "## 데이터 시각화\n",
    "- 종속변수 : Survived\n",
    "- 숫자 1 -> 생존 / 숫자 0 -> 사망"
   ]
  },
  {
   "cell_type": "code",
   "execution_count": 4,
   "id": "92ae64f1-a70c-437a-ab0c-ddf704a37cc1",
   "metadata": {},
   "outputs": [
    {
     "name": "stdout",
     "output_type": "stream",
     "text": [
      "Survived : (342, 12)\n",
      "Deceased : (549, 12)\n"
     ]
    }
   ],
   "source": [
    "survived = train_df[train_df['Survived'] == 1]\n",
    "deceased = train_df[train_df['Survived'] == 0]\n",
    "\n",
    "print(f'Survived : {survived.shape}')\n",
    "print(f'Deceased : {deceased.shape}')"
   ]
  },
  {
   "cell_type": "markdown",
   "id": "b8abd671-59cd-4a9a-8689-a8c9b8b850d6",
   "metadata": {},
   "source": [
    "- seaborn\n",
    "- matplotlib"
   ]
  },
  {
   "cell_type": "code",
   "execution_count": 37,
   "id": "eb8eff2c-9495-45a7-b6a4-dc83205f8afc",
   "metadata": {},
   "outputs": [
    {
     "data": {
      "image/png": "[encoded data removed]",
      "text/plain": [
       "<Figure size 432x288 with 1 Axes>"
      ]
     },
     "metadata": {
      "needs_background": "light"
     },
     "output_type": "display_data"
    }
   ],
   "source": [
    "class_df = train_df['Survived'].value_counts(sort = True)\n",
    "class_df\n",
    "\n",
    "fig, ax = plt.subplots()\n",
    "ax.bar(class_df.index, class_df.values, color = 'skyblue', width = 0.3)\n",
    "ax.set_xticks(range(2), ['Deceased', 'Survived'])\n",
    "ax.set_title('Class Distribution')\n",
    "ax.set_xlabel('Class Label')\n",
    "ax.set_ylabel('Counts')\n",
    "       \n",
    "plt.show()"
   ]
  },
  {
   "cell_type": "markdown",
   "id": "d48e0c94-f66d-4781-bc8c-397767afce77",
   "metadata": {},
   "source": [
    "- 연령별 분포 확인\n",
    "- 연령별로 확인 구분이 잘 안됨"
   ]
  },
  {
   "cell_type": "code",
   "execution_count": 6,
   "id": "c4c437b5-6b32-4d1c-b0b3-59ba728e14d5",
   "metadata": {},
   "outputs": [
    {
     "data": {
      "image/png": "[encoded data removed]",
      "text/plain": [
       "<Figure size 432x288 with 1 Axes>"
      ]
     },
     "metadata": {
      "needs_background": "light"
     },
     "output_type": "display_data"
    }
   ],
   "source": [
    "fig, ax = plt.subplots()\n",
    "ax.scatter(train_df['Age'], train_df['Survived'])\n",
    "ax.set_title(\"Age by Survived\")\n",
    "ax.set_ylabel(\"Class\")\n",
    "ax.set_yticks(range(2), [\"Deceased\", \"Survived\"])\n",
    "ax.set_xlabel(\"Survived By Age\")\n",
    "plt.show()"
   ]
  },
  {
   "cell_type": "markdown",
   "id": "caef21c3-1309-4cb2-8349-fd4e092addb3",
   "metadata": {},
   "source": [
    "- 사용자 정의 함수를 만들어서 활용\n",
    "- countplot() 함수 활용"
   ]
  },
  {
   "cell_type": "code",
   "execution_count": 7,
   "id": "e99712d8-8bf5-4393-84b7-b63e34f4826d",
   "metadata": {},
   "outputs": [],
   "source": [
    "def plot_bar(data, column = None):\n",
    "    if column is not None:\n",
    "        # 시각화 코드 작성\n",
    "        fig, ax = plt.subplots(1, 2, figsize = (18, 8))\n",
    "        data[[column, 'Survived']].groupby([column]).mean().plot.bar(ax=ax[0])\n",
    "        sns.countplot(x = column, hue = 'Survived', data = data, ax=ax[1])\n",
    "        ax[1].legend(labels = ['Dead', 'Survived'])\n",
    "        ax[1].set_title(f'{column} : Survived vs Dead')\n",
    "    else:\n",
    "        print('Please Enter Column')\n",
    "    \n",
    "    # return None"
   ]
  },
  {
   "cell_type": "code",
   "execution_count": 8,
   "id": "ea978b70-85b4-4491-bb16-16e9caa64a81",
   "metadata": {},
   "outputs": [
    {
     "data": {
      "image/png": "[encoded data removed]",
      "text/plain": [
       "<Figure size 1296x576 with 2 Axes>"
      ]
     },
     "metadata": {
      "needs_background": "light"
     },
     "output_type": "display_data"
    }
   ],
   "source": [
    "column = 'Sex'\n",
    "plot_bar(train_df, column)"
   ]
  },
  {
   "cell_type": "markdown",
   "id": "a6d39571-bf1c-478e-b099-b80b901da419",
   "metadata": {},
   "source": [
    "- 여성이 남성보다 상대적으로 더 많이 생존했음"
   ]
  },
  {
   "cell_type": "markdown",
   "id": "ea7f04f7-5068-42ef-8afa-8812be842511",
   "metadata": {},
   "source": [
    "- Pclass 별 생존 유무 막대 그래프를 그려본다\n",
    "- 1번 클래스에 속할수록 생존 확률 높음"
   ]
  },
  {
   "cell_type": "code",
   "execution_count": 9,
   "id": "0d75c65a-2f26-4276-a750-e84d644336ef",
   "metadata": {},
   "outputs": [
    {
     "data": {
      "image/png": "[encoded data removed]",
      "text/plain": [
       "<Figure size 1296x576 with 2 Axes>"
      ]
     },
     "metadata": {
      "needs_background": "light"
     },
     "output_type": "display_data"
    }
   ],
   "source": [
    "column = 'Pclass'\n",
    "plot_bar(train_df, column)"
   ]
  },
  {
   "cell_type": "code",
   "execution_count": 10,
   "id": "81c1ef54-ecdc-4397-999c-d1eb082a3f72",
   "metadata": {},
   "outputs": [
    {
     "data": {
      "image/png": "[encoded data removed]",
      "text/plain": [
       "<Figure size 1296x576 with 2 Axes>"
      ]
     },
     "metadata": {
      "needs_background": "light"
     },
     "output_type": "display_data"
    }
   ],
   "source": [
    "column = 'Embarked'\n",
    "plot_bar(train_df, column)"
   ]
  },
  {
   "cell_type": "markdown",
   "id": "d17b0e11-70c0-48f8-bddc-f3c700591ba2",
   "metadata": {},
   "source": [
    "## 결측치 대치\n",
    "- 컬럼 3개\n",
    "- How to deal with missing columns?\n",
    "    - Cabin 삭제\n",
    "    - Embarked 2개 뿐, 최빈도로 채우기\n",
    "    - Age 177개\n",
    "        - 그룹으로 대치"
   ]
  },
  {
   "cell_type": "code",
   "execution_count": 11,
   "id": "e8cd6fd7-4866-452b-9165-36a8f084ad11",
   "metadata": {},
   "outputs": [
    {
     "name": "stdout",
     "output_type": "stream",
     "text": [
      "<class 'pandas.core.frame.DataFrame'>\n",
      "RangeIndex: 891 entries, 0 to 890\n",
      "Data columns (total 12 columns):\n",
      " #   Column       Non-Null Count  Dtype  \n",
      "---  ------       --------------  -----  \n",
      " 0   PassengerId  891 non-null    int64  \n",
      " 1   Survived     891 non-null    int64  \n",
      " 2   Pclass       891 non-null    int64  \n",
      " 3   Name         891 non-null    object \n",
      " 4   Sex          891 non-null    object \n",
      " 5   Age          714 non-null    float64\n",
      " 6   SibSp        891 non-null    int64  \n",
      " 7   Parch        891 non-null    int64  \n",
      " 8   Ticket       891 non-null    object \n",
      " 9   Fare         891 non-null    float64\n",
      " 10  Cabin        204 non-null    object \n",
      " 11  Embarked     889 non-null    object \n",
      "dtypes: float64(2), int64(5), object(5)\n",
      "memory usage: 83.7+ KB\n"
     ]
    }
   ],
   "source": [
    "train_df.info()"
   ]
  },
  {
   "cell_type": "markdown",
   "id": "845e14e7-f8a0-497f-802b-f35eb40f8845",
   "metadata": {},
   "source": [
    "- Name 피처 확인"
   ]
  },
  {
   "cell_type": "code",
   "execution_count": 12,
   "id": "b430c377-7280-4943-833b-ba93b8dac8eb",
   "metadata": {},
   "outputs": [
    {
     "data": {
      "text/plain": [
       "0                              Braund, Mr. Owen Harris\n",
       "1    Cumings, Mrs. John Bradley (Florence Briggs Th...\n",
       "2                               Heikkinen, Miss. Laina\n",
       "3         Futrelle, Mrs. Jacques Heath (Lily May Peel)\n",
       "4                             Allen, Mr. William Henry\n",
       "Name: Name, dtype: object"
      ]
     },
     "execution_count": 12,
     "metadata": {},
     "output_type": "execute_result"
    }
   ],
   "source": [
    "train_df['Name'][:5]"
   ]
  },
  {
   "cell_type": "markdown",
   "id": "3a859fe3-1e5a-496c-9aa5-1c5119153e20",
   "metadata": {},
   "source": [
    "- 호칭의 패턴을 보고 데이터 추출\n",
    "- 키워드 : 정규표현식"
   ]
  },
  {
   "cell_type": "code",
   "execution_count": 13,
   "id": "b5e036a2-72c3-4049-bcfe-f122f50b71d2",
   "metadata": {},
   "outputs": [],
   "source": [
    "train_df['Initial'] = 0\n",
    "for _ in [train_df, test]:\n",
    "    train_df['Initial'] = train_df['Name'].str.extract('([A-Za-z]+)\\.') # \n",
    "    test['Initial'] = test['Name'].str.extract('([A-Za-z]+)\\.') # "
   ]
  },
  {
   "cell_type": "code",
   "execution_count": 14,
   "id": "f6987c48-62dd-40b8-8719-a2f8d97be9e7",
   "metadata": {},
   "outputs": [
    {
     "data": {
      "text/html": [
       "<div>\n",
       "<style scoped>\n",
       "    .dataframe tbody tr th:only-of-type {\n",
       "        vertical-align: middle;\n",
       "    }\n",
       "\n",
       "    .dataframe tbody tr th {\n",
       "        vertical-align: top;\n",
       "    }\n",
       "\n",
       "    .dataframe thead th {\n",
       "        text-align: right;\n",
       "    }\n",
       "</style>\n",
       "<table border=\"1\" class=\"dataframe\">\n",
       "  <thead>\n",
       "    <tr style=\"text-align: right;\">\n",
       "      <th></th>\n",
       "      <th>Name</th>\n",
       "      <th>Initial</th>\n",
       "    </tr>\n",
       "  </thead>\n",
       "  <tbody>\n",
       "    <tr>\n",
       "      <th>0</th>\n",
       "      <td>Braund, Mr. Owen Harris</td>\n",
       "      <td>Mr</td>\n",
       "    </tr>\n",
       "    <tr>\n",
       "      <th>1</th>\n",
       "      <td>Cumings, Mrs. John Bradley (Florence Briggs Th...</td>\n",
       "      <td>Mrs</td>\n",
       "    </tr>\n",
       "    <tr>\n",
       "      <th>2</th>\n",
       "      <td>Heikkinen, Miss. Laina</td>\n",
       "      <td>Miss</td>\n",
       "    </tr>\n",
       "    <tr>\n",
       "      <th>3</th>\n",
       "      <td>Futrelle, Mrs. Jacques Heath (Lily May Peel)</td>\n",
       "      <td>Mrs</td>\n",
       "    </tr>\n",
       "    <tr>\n",
       "      <th>4</th>\n",
       "      <td>Allen, Mr. William Henry</td>\n",
       "      <td>Mr</td>\n",
       "    </tr>\n",
       "  </tbody>\n",
       "</table>\n",
       "</div>"
      ],
      "text/plain": [
       "                                                Name Initial\n",
       "0                            Braund, Mr. Owen Harris      Mr\n",
       "1  Cumings, Mrs. John Bradley (Florence Briggs Th...     Mrs\n",
       "2                             Heikkinen, Miss. Laina    Miss\n",
       "3       Futrelle, Mrs. Jacques Heath (Lily May Peel)     Mrs\n",
       "4                           Allen, Mr. William Henry      Mr"
      ]
     },
     "execution_count": 14,
     "metadata": {},
     "output_type": "execute_result"
    }
   ],
   "source": [
    "train_df[['Name', 'Initial']].head()"
   ]
  },
  {
   "cell_type": "code",
   "execution_count": 15,
   "id": "78f5acee-2cc3-4b51-ae12-32c241938b57",
   "metadata": {},
   "outputs": [
    {
     "data": {
      "text/html": [
       "<div>\n",
       "<style scoped>\n",
       "    .dataframe tbody tr th:only-of-type {\n",
       "        vertical-align: middle;\n",
       "    }\n",
       "\n",
       "    .dataframe tbody tr th {\n",
       "        vertical-align: top;\n",
       "    }\n",
       "\n",
       "    .dataframe thead th {\n",
       "        text-align: right;\n",
       "    }\n",
       "</style>\n",
       "<table border=\"1\" class=\"dataframe\">\n",
       "  <thead>\n",
       "    <tr style=\"text-align: right;\">\n",
       "      <th>Initial</th>\n",
       "      <th>Capt</th>\n",
       "      <th>Col</th>\n",
       "      <th>Countess</th>\n",
       "      <th>Don</th>\n",
       "      <th>Dr</th>\n",
       "      <th>Jonkheer</th>\n",
       "      <th>Lady</th>\n",
       "      <th>Major</th>\n",
       "      <th>Master</th>\n",
       "      <th>Miss</th>\n",
       "      <th>Mlle</th>\n",
       "      <th>Mme</th>\n",
       "      <th>Mr</th>\n",
       "      <th>Mrs</th>\n",
       "      <th>Ms</th>\n",
       "      <th>Rev</th>\n",
       "      <th>Sir</th>\n",
       "    </tr>\n",
       "    <tr>\n",
       "      <th>Sex</th>\n",
       "      <th></th>\n",
       "      <th></th>\n",
       "      <th></th>\n",
       "      <th></th>\n",
       "      <th></th>\n",
       "      <th></th>\n",
       "      <th></th>\n",
       "      <th></th>\n",
       "      <th></th>\n",
       "      <th></th>\n",
       "      <th></th>\n",
       "      <th></th>\n",
       "      <th></th>\n",
       "      <th></th>\n",
       "      <th></th>\n",
       "      <th></th>\n",
       "      <th></th>\n",
       "    </tr>\n",
       "  </thead>\n",
       "  <tbody>\n",
       "    <tr>\n",
       "      <th>female</th>\n",
       "      <td>0</td>\n",
       "      <td>0</td>\n",
       "      <td>1</td>\n",
       "      <td>0</td>\n",
       "      <td>1</td>\n",
       "      <td>0</td>\n",
       "      <td>1</td>\n",
       "      <td>0</td>\n",
       "      <td>0</td>\n",
       "      <td>182</td>\n",
       "      <td>2</td>\n",
       "      <td>1</td>\n",
       "      <td>0</td>\n",
       "      <td>125</td>\n",
       "      <td>1</td>\n",
       "      <td>0</td>\n",
       "      <td>0</td>\n",
       "    </tr>\n",
       "    <tr>\n",
       "      <th>male</th>\n",
       "      <td>1</td>\n",
       "      <td>2</td>\n",
       "      <td>0</td>\n",
       "      <td>1</td>\n",
       "      <td>6</td>\n",
       "      <td>1</td>\n",
       "      <td>0</td>\n",
       "      <td>2</td>\n",
       "      <td>40</td>\n",
       "      <td>0</td>\n",
       "      <td>0</td>\n",
       "      <td>0</td>\n",
       "      <td>517</td>\n",
       "      <td>0</td>\n",
       "      <td>0</td>\n",
       "      <td>6</td>\n",
       "      <td>1</td>\n",
       "    </tr>\n",
       "  </tbody>\n",
       "</table>\n",
       "</div>"
      ],
      "text/plain": [
       "Initial  Capt  Col  Countess  Don  Dr  Jonkheer  Lady  Major  Master  Miss  \\\n",
       "Sex                                                                          \n",
       "female      0    0         1    0   1         0     1      0       0   182   \n",
       "male        1    2         0    1   6         1     0      2      40     0   \n",
       "\n",
       "Initial  Mlle  Mme   Mr  Mrs  Ms  Rev  Sir  \n",
       "Sex                                         \n",
       "female      2    1    0  125   1    0    0  \n",
       "male        0    0  517    0   0    6    1  "
      ]
     },
     "execution_count": 15,
     "metadata": {},
     "output_type": "execute_result"
    }
   ],
   "source": [
    "pd.crosstab(train_df['Initial'], train_df['Sex']).T"
   ]
  },
  {
   "cell_type": "code",
   "execution_count": 16,
   "id": "4137a1de-4da8-4f72-bf98-ea86f621d25c",
   "metadata": {},
   "outputs": [
    {
     "data": {
      "text/html": [
       "<div>\n",
       "<style scoped>\n",
       "    .dataframe tbody tr th:only-of-type {\n",
       "        vertical-align: middle;\n",
       "    }\n",
       "\n",
       "    .dataframe tbody tr th {\n",
       "        vertical-align: top;\n",
       "    }\n",
       "\n",
       "    .dataframe thead th {\n",
       "        text-align: right;\n",
       "    }\n",
       "</style>\n",
       "<table border=\"1\" class=\"dataframe\">\n",
       "  <thead>\n",
       "    <tr style=\"text-align: right;\">\n",
       "      <th>Initial</th>\n",
       "      <th>Col</th>\n",
       "      <th>Dona</th>\n",
       "      <th>Dr</th>\n",
       "      <th>Master</th>\n",
       "      <th>Miss</th>\n",
       "      <th>Mr</th>\n",
       "      <th>Mrs</th>\n",
       "      <th>Ms</th>\n",
       "      <th>Rev</th>\n",
       "    </tr>\n",
       "    <tr>\n",
       "      <th>Sex</th>\n",
       "      <th></th>\n",
       "      <th></th>\n",
       "      <th></th>\n",
       "      <th></th>\n",
       "      <th></th>\n",
       "      <th></th>\n",
       "      <th></th>\n",
       "      <th></th>\n",
       "      <th></th>\n",
       "    </tr>\n",
       "  </thead>\n",
       "  <tbody>\n",
       "    <tr>\n",
       "      <th>female</th>\n",
       "      <td>0</td>\n",
       "      <td>1</td>\n",
       "      <td>0</td>\n",
       "      <td>0</td>\n",
       "      <td>78</td>\n",
       "      <td>0</td>\n",
       "      <td>72</td>\n",
       "      <td>1</td>\n",
       "      <td>0</td>\n",
       "    </tr>\n",
       "    <tr>\n",
       "      <th>male</th>\n",
       "      <td>2</td>\n",
       "      <td>0</td>\n",
       "      <td>1</td>\n",
       "      <td>21</td>\n",
       "      <td>0</td>\n",
       "      <td>240</td>\n",
       "      <td>0</td>\n",
       "      <td>0</td>\n",
       "      <td>2</td>\n",
       "    </tr>\n",
       "  </tbody>\n",
       "</table>\n",
       "</div>"
      ],
      "text/plain": [
       "Initial  Col  Dona  Dr  Master  Miss   Mr  Mrs  Ms  Rev\n",
       "Sex                                                    \n",
       "female     0     1   0       0    78    0   72   1    0\n",
       "male       2     0   1      21     0  240    0   0    2"
      ]
     },
     "execution_count": 16,
     "metadata": {},
     "output_type": "execute_result"
    }
   ],
   "source": [
    "pd.crosstab(test['Initial'], test['Sex']).T"
   ]
  },
  {
   "cell_type": "markdown",
   "id": "81cfb690-f087-44b0-995e-a156874176f2",
   "metadata": {},
   "source": [
    "- 미성년자, Miss, Mr, Mrs, Other"
   ]
  },
  {
   "cell_type": "code",
   "execution_count": 17,
   "id": "25e08c3c-9994-444f-96e8-96b952ecf781",
   "metadata": {},
   "outputs": [
    {
     "data": {
      "text/plain": [
       "(891, 13)"
      ]
     },
     "execution_count": 17,
     "metadata": {},
     "output_type": "execute_result"
    }
   ],
   "source": [
    "b4_title    = ['Mlle','Mme','Ms','Dr','Major','Lady','Countess','Jonkheer','Col','Rev','Capt','Sir','Don', 'Dona']\n",
    "after_title = ['Miss','Miss','Miss','Mr','Mr','Mrs','Mrs','Other','Other','Other','Mr','Mr','Mr', 'Miss']\n",
    "\n",
    "train_df['Initial'] = train_df['Initial'].replace(b4_title, after_title)\n",
    "train_df.shape"
   ]
  },
  {
   "cell_type": "code",
   "execution_count": 18,
   "id": "1f2d89be-c9be-412f-8edf-ae686e25f57f",
   "metadata": {},
   "outputs": [
    {
     "data": {
      "text/plain": [
       "(418, 12)"
      ]
     },
     "execution_count": 18,
     "metadata": {},
     "output_type": "execute_result"
    }
   ],
   "source": [
    "test['Initial'] = test['Initial'].replace(b4_title, after_title)\n",
    "test.shape"
   ]
  },
  {
   "cell_type": "markdown",
   "id": "18ffcd4d-49db-48bd-afad-28c2c5f96e53",
   "metadata": {},
   "source": [
    "- Initial을 그룹으로 평균연령을 구할 수 있음"
   ]
  },
  {
   "cell_type": "code",
   "execution_count": 19,
   "id": "b21a4199-09fc-493f-897b-34d051bc233c",
   "metadata": {},
   "outputs": [
    {
     "data": {
      "text/plain": [
       "Initial\n",
       "Master     4.574167\n",
       "Miss      21.860000\n",
       "Mr        32.739609\n",
       "Mrs       35.981818\n",
       "Other     45.888889\n",
       "Name: Age, dtype: float64"
      ]
     },
     "execution_count": 19,
     "metadata": {},
     "output_type": "execute_result"
    }
   ],
   "source": [
    "train_df.groupby('Initial')['Age'].mean()"
   ]
  },
  {
   "cell_type": "code",
   "execution_count": 20,
   "id": "a11c571f-b46e-402c-b5d5-7298f07e61a9",
   "metadata": {},
   "outputs": [],
   "source": [
    "# train_df.loc[조건식, 'Age'] = 33.\n",
    "train_df.loc[(train_df['Age'].isnull())&(train_df['Initial']=='Mr'),'Age']=33\n",
    "train_df.loc[(train_df['Age'].isnull())&(train_df['Initial']=='Mrs'),'Age']=36\n",
    "train_df.loc[(train_df['Age'].isnull())&(train_df['Initial']=='Master'),'Age']=5\n",
    "train_df.loc[(train_df['Age'].isnull())&(train_df['Initial']=='Miss'),'Age']=22\n",
    "train_df.loc[(train_df['Age'].isnull())&(train_df['Initial']=='Other'),'Age']=46"
   ]
  },
  {
   "cell_type": "code",
   "execution_count": 21,
   "id": "ace0dae3-ea77-4faa-b540-55983386964d",
   "metadata": {},
   "outputs": [],
   "source": [
    "test.loc[(test['Age'].isnull())&(test['Initial']=='Mr'),'Age']=33\n",
    "test.loc[(test['Age'].isnull())&(test['Initial']=='Mrs'),'Age']=39\n",
    "test.loc[(test['Age'].isnull())&(test['Initial']=='Master'),'Age']=8\n",
    "test.loc[(test['Age'].isnull())&(test['Initial']=='Miss'),'Age']=22\n",
    "test.loc[(test['Age'].isnull())&(test['Initial']=='Other'),'Age']=43\n",
    "\n",
    "# Fare Mean\n",
    "test['Fare'] = test['Fare'].fillna(np.mean(test['Fare']))"
   ]
  },
  {
   "cell_type": "code",
   "execution_count": 22,
   "id": "3a61f4c2-d0cb-449c-95f6-da0392e0e5d7",
   "metadata": {},
   "outputs": [
    {
     "data": {
      "text/plain": [
       "PassengerId      0\n",
       "Survived         0\n",
       "Pclass           0\n",
       "Name             0\n",
       "Sex              0\n",
       "Age              0\n",
       "SibSp            0\n",
       "Parch            0\n",
       "Ticket           0\n",
       "Fare             0\n",
       "Cabin          687\n",
       "Embarked         0\n",
       "Initial          0\n",
       "dtype: int64"
      ]
     },
     "execution_count": 22,
     "metadata": {},
     "output_type": "execute_result"
    }
   ],
   "source": [
    "train_df['Embarked'].fillna('S', inplace = True)\n",
    "# train_df['Embarked'] = train_df['Embarked'].fillna('S')\n",
    "train_df.isnull().sum()"
   ]
  },
  {
   "cell_type": "code",
   "execution_count": 23,
   "id": "9ae7c6a5-87ef-4f08-8fad-1c2eee4a17d1",
   "metadata": {},
   "outputs": [
    {
     "data": {
      "text/plain": [
       "PassengerId      0\n",
       "Pclass           0\n",
       "Name             0\n",
       "Sex              0\n",
       "Age              0\n",
       "SibSp            0\n",
       "Parch            0\n",
       "Ticket           0\n",
       "Fare             0\n",
       "Cabin          327\n",
       "Embarked         0\n",
       "Initial          0\n",
       "dtype: int64"
      ]
     },
     "execution_count": 23,
     "metadata": {},
     "output_type": "execute_result"
    }
   ],
   "source": [
    "test.isnull().sum()"
   ]
  },
  {
   "cell_type": "code",
   "execution_count": 24,
   "id": "4eb0a2e4-c6f4-43c9-8610-2f4f2e721058",
   "metadata": {},
   "outputs": [
    {
     "data": {
      "image/png": "[encoded data removed]",
      "text/plain": [
       "<Figure size 1296x576 with 2 Axes>"
      ]
     },
     "metadata": {
      "needs_background": "light"
     },
     "output_type": "display_data"
    }
   ],
   "source": [
    "column = 'Initial'\n",
    "plot_bar(train_df, column)"
   ]
  },
  {
   "cell_type": "markdown",
   "id": "7f6172b6-0464-4e1c-8920-dab3feefd5fc",
   "metadata": {},
   "source": [
    "## Feature 제거\n",
    "- 불필요한 컬럼 제거\n",
    "    + name 피처 제거\n",
    "    + Ticket 피처 제거 (무작위 문자형)\n",
    "    + Cabin은 결측치가 매우 많음\n",
    "    + PassengerId 제거"
   ]
  },
  {
   "cell_type": "code",
   "execution_count": 25,
   "id": "37c059d3-b7f6-4c72-876d-b1a7880ba831",
   "metadata": {},
   "outputs": [
    {
     "data": {
      "text/plain": [
       "((891, 13), (418, 12))"
      ]
     },
     "execution_count": 25,
     "metadata": {},
     "output_type": "execute_result"
    }
   ],
   "source": [
    "train_df.shape, test.shape"
   ]
  },
  {
   "cell_type": "code",
   "execution_count": 26,
   "id": "ff152b2d-7ef8-4cd1-ba85-1c19e30d352c",
   "metadata": {},
   "outputs": [
    {
     "data": {
      "text/plain": [
       "((891, 9), (418, 8))"
      ]
     },
     "execution_count": 26,
     "metadata": {},
     "output_type": "execute_result"
    }
   ],
   "source": [
    "cols = ['Name', 'Ticket', 'Cabin', 'PassengerId']\n",
    "train_df = train_df.drop(cols, axis = 1)\n",
    "test = test.drop(cols, axis = 1)\n",
    "\n",
    "train_df.shape, test.shape"
   ]
  },
  {
   "cell_type": "markdown",
   "id": "d0b88eab-07b2-4667-8cc9-560bd51a298d",
   "metadata": {},
   "source": [
    "## 인코딩 변환\n",
    "- Ordinal Encoding, Label Encoding, One-Hot Encoding"
   ]
  },
  {
   "cell_type": "code",
   "execution_count": 27,
   "id": "1099f359-be30-4db9-90ad-91693db7dde3",
   "metadata": {},
   "outputs": [
    {
     "data": {
      "text/plain": [
       "((891, 16), (418, 15))"
      ]
     },
     "execution_count": 27,
     "metadata": {},
     "output_type": "execute_result"
    }
   ],
   "source": [
    "train_df = pd.get_dummies(train_df)\n",
    "test = pd.get_dummies(test)\n",
    "\n",
    "train_df.shape, test.shape"
   ]
  },
  {
   "cell_type": "markdown",
   "id": "e6771724-f986-4d3c-b5e1-a615a570787e",
   "metadata": {},
   "source": [
    "## 데이터셋 분리\n",
    "- 분류 학습 진행 시, 불균형 데이터셋을 분리할때 종종 쓰는 코드"
   ]
  },
  {
   "cell_type": "code",
   "execution_count": 28,
   "id": "8051231d-5b21-45c3-9859-6b4c83297e65",
   "metadata": {},
   "outputs": [
    {
     "data": {
      "text/plain": [
       "((164, 16), (55, 16), (204, 16), (69, 16))"
      ]
     },
     "execution_count": 28,
     "metadata": {},
     "output_type": "execute_result"
    }
   ],
   "source": [
    "deceased = train_df[train_df['Survived'] == 0].sample(frac=0.5, random_state=42).reset_index(drop=True)\n",
    "survived = train_df[train_df['Survived'] == 1]\n",
    "\n",
    "deceased_train, deceased_test = train_test_split(deceased, test_size = 0.2, random_state=42)\n",
    "survived_train, survived_test = train_test_split(survived, test_size = 0.2, random_state=42)\n",
    "\n",
    "deceased_train, deceased_validate = train_test_split(deceased_train, test_size = 0.25, random_state=42)\n",
    "survived_train, survived_validate = train_test_split(survived_train, test_size = 0.25, random_state=42)\n",
    "\n",
    "deceased_train.shape, deceased_validate.shape, survived_train.shape, survived_validate.shape "
   ]
  },
  {
   "cell_type": "code",
   "execution_count": 29,
   "id": "467772c3-70c7-45d4-9c7b-299843818fc0",
   "metadata": {},
   "outputs": [
    {
     "data": {
      "text/plain": [
       "((368, 15), (124, 15), (124, 15), (368,), (124,), (124,))"
      ]
     },
     "execution_count": 29,
     "metadata": {},
     "output_type": "execute_result"
    }
   ],
   "source": [
    "X_train = pd.concat((deceased_train, survived_train))\n",
    "X_test = pd.concat((deceased_test, survived_test))\n",
    "X_validate = pd.concat((deceased_validate, survived_validate))\n",
    "\n",
    "y_train = np.array(X_train[\"Survived\"])\n",
    "y_test = np.array(X_test[\"Survived\"])\n",
    "y_validate = np.array(X_validate[\"Survived\"])\n",
    "\n",
    "X_train = X_train.drop(\"Survived\", axis = 1)\n",
    "X_test = X_test.drop(\"Survived\", axis = 1)\n",
    "X_validate = X_validate.drop(\"Survived\", axis = 1)\n",
    "\n",
    "X_train.shape, X_validate.shape, X_test.shape, y_train.shape, y_validate.shape, y_test.shape"
   ]
  },
  {
   "cell_type": "markdown",
   "id": "7468bc9b-e70d-43db-8af8-b624085ca14b",
   "metadata": {},
   "source": [
    "## MLFlow 학습 및 평가\n",
    "- 모델 만들고 예측하고, 제출하면 끝"
   ]
  },
  {
   "cell_type": "code",
   "execution_count": 30,
   "id": "367df62a-2d4c-44fa-bae1-b807d9fd2e8a",
   "metadata": {},
   "outputs": [],
   "source": [
    "def train(ml_model, X_train, y_train):\n",
    "    ml_model = ml_model.fit(X_train, y_train)\n",
    "    train_acc = ml_model.score(X_train, y_train)\n",
    "    mlflow.log_metric(\"train_acc\", train_acc)\n",
    "    print(f\"Train Accuracy: (train_acc:.3%)\")\n",
    "    \n",
    "\n",
    "def evaluate(ml_model, X_test, y_test):\n",
    "    eval_acc = ml_model.score(X_test, y_test)\n",
    "    preds = ml_model.predict(X_test)\n",
    "    auc_score = roc_auc_score(y_test, preds)\n",
    "    mlflow.log_metric(\"eval_acc\", eval_acc)\n",
    "    mlflow.log_metric(\"auc_score\", auc_score)\n",
    "    \n",
    "    print(f\"Auc Score : {auc_score:.3%}\")\n",
    "    print(f\"Eval Score : {eval_acc:.3%}\")\n",
    "    roc_plot = plot_roc_curve(ml_model, X_test, y_test, name=\"Scikit-Learn ROC Curve\")\n",
    "    plt.savefig(\"sklearn_roc_plot.png\")\n",
    "    plt.show()\n",
    "    plt.clf()\n",
    "    conf_matrix = confusion_matrix(y_test, preds)\n",
    "    ax = sns.heatmap(conf_matrix, annot=True, fmt='g')\n",
    "    ax.invert_xaxis()\n",
    "    ax.invert_yaxis()\n",
    "    plt.ylabel(\"Actual\")\n",
    "    plt.xlabel(\"Predicted\")\n",
    "    plt.title(\"Confusion Matrix\")\n",
    "    plt.savefig(\"sklearn_conf_matrix.png\")\n",
    "    mlflow.log_artifact(\"sklearn_roc_plot.png\")\n",
    "    mlflow.log_artifact(\"sklearn_conf_matrix.png\")"
   ]
  },
  {
   "cell_type": "markdown",
   "id": "7365a605-9605-4bd2-8b0e-2ad768ee6cef",
   "metadata": {},
   "source": [
    "- 테스트"
   ]
  },
  {
   "cell_type": "code",
   "execution_count": 31,
   "id": "e19c7328-eb4c-484d-800c-562e47f30757",
   "metadata": {},
   "outputs": [
    {
     "name": "stdout",
     "output_type": "stream",
     "text": [
      "Train Accuracy: (train_acc:.3%)\n",
      "Auc Score : 78.748%\n",
      "Eval Score : 79.839%\n"
     ]
    },
    {
     "name": "stderr",
     "output_type": "stream",
     "text": [
      "C:\\Users\\human\\Desktop\\mlops_sam\\venv\\lib\\site-packages\\sklearn\\utils\\deprecation.py:87: FutureWarning: Function plot_roc_curve is deprecated; Function :func:`plot_roc_curve` is deprecated in 1.0 and will be removed in 1.2. Use one of the class methods: :meth:`sklearn.metric.RocCurveDisplay.from_predictions` or :meth:`sklearn.metric.RocCurveDisplay.from_estimator`.\n",
      "  warnings.warn(msg, category=FutureWarning)\n"
     ]
    },
    {
     "data": {
      "image/png": "[encoded data removed]",
      "text/plain": [
       "<Figure size 432x288 with 1 Axes>"
      ]
     },
     "metadata": {
      "needs_background": "light"
     },
     "output_type": "display_data"
    },
    {
     "name": "stdout",
     "output_type": "stream",
     "text": [
      "Model run:  1744fb66eff44f728210ce2e1cc88a78\n"
     ]
    },
    {
     "name": "stderr",
     "output_type": "stream",
     "text": [
      "C:\\Users\\human\\Desktop\\mlops_sam\\venv\\lib\\site-packages\\_distutils_hack\\__init__.py:33: UserWarning: Setuptools is replacing distutils.\n",
      "  warnings.warn(\"Setuptools is replacing distutils.\")\n"
     ]
    },
    {
     "data": {
      "image/png": "[encoded data removed]",
      "text/plain": [
       "<Figure size 432x288 with 2 Axes>"
      ]
     },
     "metadata": {
      "needs_background": "light"
     },
     "output_type": "display_data"
    }
   ],
   "source": [
    "# 모델 설정\n",
    "ml_model = LogisticRegression(random_state=None, max_iter=400, solver='newton-cg')\n",
    "\n",
    "# 실험 이름 설정\n",
    "mlflow.set_experiment(\"human_sklearn_experiment\")\n",
    "\n",
    "# 해당 이름으로 실행 배치\n",
    "with mlflow.start_run():\n",
    "    train(ml_model, X_train, y_train)\n",
    "    evaluate(ml_model, X_test, y_test)\n",
    "    \n",
    "    # 하나의 MLFlow 실행 컨텍스트에서 모든 코드를 묶을 수 있음. \n",
    "    # 참조 : https://mlflow.org/docs/latest/models.html#model-customization\n",
    "    mlflow.sklearn.log_model(ml_model, 'log_reg_model')\n",
    "    \n",
    "    # 본질적으로 모델과 지표가 로깅되는 현재 실행을 가져오고 출력함. \n",
    "    print(\"Model run: \", mlflow.active_run().info.run_uuid)\n",
    "mlflow.end_run()"
   ]
  },
  {
   "cell_type": "code",
   "execution_count": 33,
   "id": "2628c360-b057-450b-b8e9-0c7284b409e1",
   "metadata": {},
   "outputs": [],
   "source": [
    "logged_model = 'runs:/e65c76e89e194341b979b77a533d2ef5/log_reg_model'\n",
    "loaded_model = mlflow.pyfunc.load_model(logged_model)\n",
    "\n",
    "final_preds = loaded_model.predict(test)\n",
    "submission['Survived']=final_preds\n",
    "submission.to_csv(DATA_PATH + \"submission.csv\", index=False)"
   ]
  }
 ],
 "metadata": {
  "kernelspec": {
   "display_name": "Python 3 (ipykernel)",
   "language": "python",
   "name": "python3"
  },
  "language_info": {
   "codemirror_mode": {
    "name": "ipython",
    "version": 3
   },
   "file_extension": ".py",
   "mimetype": "text/x-python",
   "name": "python",
   "nbconvert_exporter": "python",
   "pygments_lexer": "ipython3",
   "version": "3.8.8"
  }
 },
 "nbformat": 4,
 "nbformat_minor": 5
}
