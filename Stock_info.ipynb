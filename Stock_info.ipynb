{
 "cells": [
  {
   "cell_type": "code",
   "execution_count": 2,
   "id": "4f3aa275-0fd2-4aee-a73c-3c3d768eee7a",
   "metadata": {},
   "outputs": [
    {
     "ename": "SyntaxError",
     "evalue": "invalid syntax (1408937377.py, line 15)",
     "output_type": "error",
     "traceback": [
      "\u001b[1;36m  Input \u001b[1;32mIn [2]\u001b[1;36m\u001b[0m\n\u001b[1;33m    -----------------------------------------------------------\u001b[0m\n\u001b[1;37m                                                               ^\u001b[0m\n\u001b[1;31mSyntaxError\u001b[0m\u001b[1;31m:\u001b[0m invalid syntax\n"
     ]
    }
   ],
   "source": [
    "# [1. 상위 10위 나오는 코드]\n",
    "\n",
    "from bs4 import BeautifulSoup\n",
    "import requests\n",
    "\n",
    "req = requests.get('https://finance.naver.com/sise/') # requests.get 으로 url의 html정보들을 가져 옵니다.\n",
    "html = req.text # html정보에서 text정보만 빼서 html변수에 넣어 줍니다.\n",
    "soup = BeautifulSoup(html,'html.parser') # html.parser 로 파싱해줍니다.\n",
    "\n",
    "my_stock= soup.select( #my_stock 변수에 select 할 정보를 찾아서 넣어 줍니다.\n",
    "    '.lst_pop'\n",
    ")\n",
    "for stock_name in my_stock: # select한 정보를 한줄 한줄 print하기 위해 for문 을 이용합니다.\n",
    "    print(stock_name.text)\n",
    "-----------------------------------------------------------\n",
    "-----------------------------------------------------------\n",
    "# [2. 지정된 시간에 실시간으로 가격올리는 법]\n",
    "\n",
    "from bs4 import BeautifulSoup\n",
    "from datetime import datetime\n",
    "import requests\n",
    "import time\n",
    "\n",
    "def get_code(company_code):\n",
    "    url= 'https://finance.naver.com/item/main.naver?code='+company_code\n",
    "    result = requests.get(url)\n",
    "    bs_obj= BeautifulSoup(result.content,\"html.parser\")\n",
    "    return bs_obj\n",
    "\n",
    "def get_price(company_code):\n",
    "    bs_obj = get_code(company_code)\n",
    "    no_today = bs_obj.find(\"p\",{\"class\":\"no_today\"})\n",
    "    blind = no_today.find(\"span\",{\"class\":\"blind\"})\n",
    "    now_price = blind.text\n",
    "    return now_price\n",
    "\n",
    "company_codes=[\"002870\", \"018620\", \"353810\",\"027970\"]\n",
    "\n",
    "while True:\n",
    "    now = datetime.now()\n",
    "    print(now)\n",
    "\n",
    "    for item in company_codes:\n",
    "        now_price = get_price(item)\n",
    "        print(now_price)\n",
    "    print(\"------------------\")\n",
    "    time.sleep(60)"
   ]
  }
 ],
 "metadata": {
  "kernelspec": {
   "display_name": "Python 3 (ipykernel)",
   "language": "python",
   "name": "python3"
  },
  "language_info": {
   "codemirror_mode": {
    "name": "ipython",
    "version": 3
   },
   "file_extension": ".py",
   "mimetype": "text/x-python",
   "name": "python",
   "nbconvert_exporter": "python",
   "pygments_lexer": "ipython3",
   "version": "3.8.8"
  }
 },
 "nbformat": 4,
 "nbformat_minor": 5
}
