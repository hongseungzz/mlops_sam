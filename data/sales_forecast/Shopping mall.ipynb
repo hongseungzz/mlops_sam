{
 "cells": [
  {
   "cell_type": "code",
   "execution_count": 1,
   "id": "2f873bc6-0faa-4d3e-b7a1-6e887cb93d5d",
   "metadata": {},
   "outputs": [
    {
     "name": "stdout",
     "output_type": "stream",
     "text": [
      "numpy version 1.23.1\n",
      "pandas version 1.4.3\n",
      "matplotlib version 3.5.2\n",
      "seaborn version 0.11.2\n",
      "sklearn version 1.1.1\n"
     ]
    }
   ],
   "source": [
    "import numpy as np \n",
    "import pandas as pd \n",
    "import matplotlib as mpl\n",
    "import matplotlib.pyplot as plt \n",
    "import sklearn\n",
    "import seaborn as sns\n",
    "from sklearn.linear_model import LogisticRegression\n",
    "from sklearn.model_selection import train_test_split, KFold\n",
    "from sklearn.preprocessing import StandardScaler\n",
    "from sklearn.metrics import roc_auc_score, plot_roc_curve, confusion_matrix \n",
    "\n",
    "print(f\"numpy version {np.__version__}\")\n",
    "print(f\"pandas version {pd.__version__}\")\n",
    "print(f\"matplotlib version {mpl.__version__}\")\n",
    "print(f\"seaborn version {sns.__version__}\")\n",
    "print(f\"sklearn version {sklearn.__version__}\")\n",
    "%matplotlib inline"
   ]
  },
  {
   "cell_type": "code",
   "execution_count": 2,
   "id": "70a6077a-7c5a-4e66-bf05-4bcb564f6856",
   "metadata": {},
   "outputs": [
    {
     "data": {
      "text/html": [
       "<div>\n",
       "<style scoped>\n",
       "    .dataframe tbody tr th:only-of-type {\n",
       "        vertical-align: middle;\n",
       "    }\n",
       "\n",
       "    .dataframe tbody tr th {\n",
       "        vertical-align: top;\n",
       "    }\n",
       "\n",
       "    .dataframe thead th {\n",
       "        text-align: right;\n",
       "    }\n",
       "</style>\n",
       "<table border=\"1\" class=\"dataframe\">\n",
       "  <thead>\n",
       "    <tr style=\"text-align: right;\">\n",
       "      <th></th>\n",
       "      <th>id</th>\n",
       "      <th>Store</th>\n",
       "      <th>Date</th>\n",
       "      <th>Temperature</th>\n",
       "      <th>Fuel_Price</th>\n",
       "      <th>Promotion1</th>\n",
       "      <th>Promotion2</th>\n",
       "      <th>Promotion3</th>\n",
       "      <th>Promotion4</th>\n",
       "      <th>Promotion5</th>\n",
       "      <th>Unemployment</th>\n",
       "      <th>IsHoliday</th>\n",
       "      <th>Weekly_Sales</th>\n",
       "    </tr>\n",
       "  </thead>\n",
       "  <tbody>\n",
       "    <tr>\n",
       "      <th>0</th>\n",
       "      <td>1</td>\n",
       "      <td>1</td>\n",
       "      <td>05/02/2010</td>\n",
       "      <td>42.31</td>\n",
       "      <td>2.572</td>\n",
       "      <td>NaN</td>\n",
       "      <td>NaN</td>\n",
       "      <td>NaN</td>\n",
       "      <td>NaN</td>\n",
       "      <td>NaN</td>\n",
       "      <td>8.106</td>\n",
       "      <td>False</td>\n",
       "      <td>1643690.90</td>\n",
       "    </tr>\n",
       "    <tr>\n",
       "      <th>1</th>\n",
       "      <td>2</td>\n",
       "      <td>1</td>\n",
       "      <td>12/02/2010</td>\n",
       "      <td>38.51</td>\n",
       "      <td>2.548</td>\n",
       "      <td>NaN</td>\n",
       "      <td>NaN</td>\n",
       "      <td>NaN</td>\n",
       "      <td>NaN</td>\n",
       "      <td>NaN</td>\n",
       "      <td>8.106</td>\n",
       "      <td>True</td>\n",
       "      <td>1641957.44</td>\n",
       "    </tr>\n",
       "    <tr>\n",
       "      <th>2</th>\n",
       "      <td>3</td>\n",
       "      <td>1</td>\n",
       "      <td>19/02/2010</td>\n",
       "      <td>39.93</td>\n",
       "      <td>2.514</td>\n",
       "      <td>NaN</td>\n",
       "      <td>NaN</td>\n",
       "      <td>NaN</td>\n",
       "      <td>NaN</td>\n",
       "      <td>NaN</td>\n",
       "      <td>8.106</td>\n",
       "      <td>False</td>\n",
       "      <td>1611968.17</td>\n",
       "    </tr>\n",
       "    <tr>\n",
       "      <th>3</th>\n",
       "      <td>4</td>\n",
       "      <td>1</td>\n",
       "      <td>26/02/2010</td>\n",
       "      <td>46.63</td>\n",
       "      <td>2.561</td>\n",
       "      <td>NaN</td>\n",
       "      <td>NaN</td>\n",
       "      <td>NaN</td>\n",
       "      <td>NaN</td>\n",
       "      <td>NaN</td>\n",
       "      <td>8.106</td>\n",
       "      <td>False</td>\n",
       "      <td>1409727.59</td>\n",
       "    </tr>\n",
       "    <tr>\n",
       "      <th>4</th>\n",
       "      <td>5</td>\n",
       "      <td>1</td>\n",
       "      <td>05/03/2010</td>\n",
       "      <td>46.50</td>\n",
       "      <td>2.625</td>\n",
       "      <td>NaN</td>\n",
       "      <td>NaN</td>\n",
       "      <td>NaN</td>\n",
       "      <td>NaN</td>\n",
       "      <td>NaN</td>\n",
       "      <td>8.106</td>\n",
       "      <td>False</td>\n",
       "      <td>1554806.68</td>\n",
       "    </tr>\n",
       "  </tbody>\n",
       "</table>\n",
       "</div>"
      ],
      "text/plain": [
       "   id  Store        Date  Temperature  Fuel_Price  Promotion1  Promotion2  \\\n",
       "0   1      1  05/02/2010        42.31       2.572         NaN         NaN   \n",
       "1   2      1  12/02/2010        38.51       2.548         NaN         NaN   \n",
       "2   3      1  19/02/2010        39.93       2.514         NaN         NaN   \n",
       "3   4      1  26/02/2010        46.63       2.561         NaN         NaN   \n",
       "4   5      1  05/03/2010        46.50       2.625         NaN         NaN   \n",
       "\n",
       "   Promotion3  Promotion4  Promotion5  Unemployment  IsHoliday  Weekly_Sales  \n",
       "0         NaN         NaN         NaN         8.106      False    1643690.90  \n",
       "1         NaN         NaN         NaN         8.106       True    1641957.44  \n",
       "2         NaN         NaN         NaN         8.106      False    1611968.17  \n",
       "3         NaN         NaN         NaN         8.106      False    1409727.59  \n",
       "4         NaN         NaN         NaN         8.106      False    1554806.68  "
      ]
     },
     "execution_count": 2,
     "metadata": {},
     "output_type": "execute_result"
    }
   ],
   "source": [
    "DATA_PATH = 'C:\\\\Users\\\\human\\\\Desktop\\\\mlops_sam\\\\data\\\\sales_forecast\\\\'\n",
    "\n",
    "train = pd.read_csv(DATA_PATH + 'train.csv')\n",
    "test = pd.read_csv(DATA_PATH + 'test.csv')\n",
    "submission = pd.read_csv(DATA_PATH + 'sample_submission.csv')\n",
    "\n",
    "train.head()"
   ]
  },
  {
   "cell_type": "code",
   "execution_count": 3,
   "id": "f97d94a8-cfe2-464f-8cbd-17d9823a9149",
   "metadata": {},
   "outputs": [
    {
     "data": {
      "text/html": [
       "<div>\n",
       "<style scoped>\n",
       "    .dataframe tbody tr th:only-of-type {\n",
       "        vertical-align: middle;\n",
       "    }\n",
       "\n",
       "    .dataframe tbody tr th {\n",
       "        vertical-align: top;\n",
       "    }\n",
       "\n",
       "    .dataframe thead th {\n",
       "        text-align: right;\n",
       "    }\n",
       "</style>\n",
       "<table border=\"1\" class=\"dataframe\">\n",
       "  <thead>\n",
       "    <tr style=\"text-align: right;\">\n",
       "      <th></th>\n",
       "      <th>id</th>\n",
       "      <th>Store</th>\n",
       "      <th>Date</th>\n",
       "      <th>Temperature</th>\n",
       "      <th>Fuel_Price</th>\n",
       "      <th>Promotion1</th>\n",
       "      <th>Promotion2</th>\n",
       "      <th>Promotion3</th>\n",
       "      <th>Promotion4</th>\n",
       "      <th>Promotion5</th>\n",
       "      <th>Unemployment</th>\n",
       "      <th>IsHoliday</th>\n",
       "      <th>Weekly_Sales</th>\n",
       "    </tr>\n",
       "  </thead>\n",
       "  <tbody>\n",
       "    <tr>\n",
       "      <th>6250</th>\n",
       "      <td>6251</td>\n",
       "      <td>45</td>\n",
       "      <td>31/08/2012</td>\n",
       "      <td>75.09</td>\n",
       "      <td>3.867</td>\n",
       "      <td>23641.30</td>\n",
       "      <td>6.00</td>\n",
       "      <td>92.93</td>\n",
       "      <td>6988.31</td>\n",
       "      <td>3992.13</td>\n",
       "      <td>8.684</td>\n",
       "      <td>False</td>\n",
       "      <td>734297.87</td>\n",
       "    </tr>\n",
       "    <tr>\n",
       "      <th>6251</th>\n",
       "      <td>6252</td>\n",
       "      <td>45</td>\n",
       "      <td>07/09/2012</td>\n",
       "      <td>75.70</td>\n",
       "      <td>3.911</td>\n",
       "      <td>11024.45</td>\n",
       "      <td>12.80</td>\n",
       "      <td>52.63</td>\n",
       "      <td>1854.77</td>\n",
       "      <td>2055.70</td>\n",
       "      <td>8.684</td>\n",
       "      <td>True</td>\n",
       "      <td>766512.66</td>\n",
       "    </tr>\n",
       "    <tr>\n",
       "      <th>6252</th>\n",
       "      <td>6253</td>\n",
       "      <td>45</td>\n",
       "      <td>14/09/2012</td>\n",
       "      <td>67.87</td>\n",
       "      <td>3.948</td>\n",
       "      <td>11407.95</td>\n",
       "      <td>NaN</td>\n",
       "      <td>4.30</td>\n",
       "      <td>3421.72</td>\n",
       "      <td>5268.92</td>\n",
       "      <td>8.684</td>\n",
       "      <td>False</td>\n",
       "      <td>702238.27</td>\n",
       "    </tr>\n",
       "    <tr>\n",
       "      <th>6253</th>\n",
       "      <td>6254</td>\n",
       "      <td>45</td>\n",
       "      <td>21/09/2012</td>\n",
       "      <td>65.32</td>\n",
       "      <td>4.038</td>\n",
       "      <td>8452.20</td>\n",
       "      <td>92.28</td>\n",
       "      <td>63.24</td>\n",
       "      <td>2376.38</td>\n",
       "      <td>8670.40</td>\n",
       "      <td>8.684</td>\n",
       "      <td>False</td>\n",
       "      <td>723086.20</td>\n",
       "    </tr>\n",
       "    <tr>\n",
       "      <th>6254</th>\n",
       "      <td>6255</td>\n",
       "      <td>45</td>\n",
       "      <td>28/09/2012</td>\n",
       "      <td>64.88</td>\n",
       "      <td>3.997</td>\n",
       "      <td>4556.61</td>\n",
       "      <td>20.64</td>\n",
       "      <td>1.50</td>\n",
       "      <td>1601.01</td>\n",
       "      <td>3288.25</td>\n",
       "      <td>8.684</td>\n",
       "      <td>False</td>\n",
       "      <td>713173.95</td>\n",
       "    </tr>\n",
       "  </tbody>\n",
       "</table>\n",
       "</div>"
      ],
      "text/plain": [
       "        id  Store        Date  Temperature  Fuel_Price  Promotion1  \\\n",
       "6250  6251     45  31/08/2012        75.09       3.867    23641.30   \n",
       "6251  6252     45  07/09/2012        75.70       3.911    11024.45   \n",
       "6252  6253     45  14/09/2012        67.87       3.948    11407.95   \n",
       "6253  6254     45  21/09/2012        65.32       4.038     8452.20   \n",
       "6254  6255     45  28/09/2012        64.88       3.997     4556.61   \n",
       "\n",
       "      Promotion2  Promotion3  Promotion4  Promotion5  Unemployment  IsHoliday  \\\n",
       "6250        6.00       92.93     6988.31     3992.13         8.684      False   \n",
       "6251       12.80       52.63     1854.77     2055.70         8.684       True   \n",
       "6252         NaN        4.30     3421.72     5268.92         8.684      False   \n",
       "6253       92.28       63.24     2376.38     8670.40         8.684      False   \n",
       "6254       20.64        1.50     1601.01     3288.25         8.684      False   \n",
       "\n",
       "      Weekly_Sales  \n",
       "6250     734297.87  \n",
       "6251     766512.66  \n",
       "6252     702238.27  \n",
       "6253     723086.20  \n",
       "6254     713173.95  "
      ]
     },
     "execution_count": 3,
     "metadata": {},
     "output_type": "execute_result"
    }
   ],
   "source": [
    "train.tail()"
   ]
  },
  {
   "cell_type": "code",
   "execution_count": 4,
   "id": "8e6895f7-e91c-40e6-8efb-4ed00ba971f1",
   "metadata": {},
   "outputs": [
    {
     "data": {
      "text/html": [
       "<div>\n",
       "<style scoped>\n",
       "    .dataframe tbody tr th:only-of-type {\n",
       "        vertical-align: middle;\n",
       "    }\n",
       "\n",
       "    .dataframe tbody tr th {\n",
       "        vertical-align: top;\n",
       "    }\n",
       "\n",
       "    .dataframe thead th {\n",
       "        text-align: right;\n",
       "    }\n",
       "</style>\n",
       "<table border=\"1\" class=\"dataframe\">\n",
       "  <thead>\n",
       "    <tr style=\"text-align: right;\">\n",
       "      <th></th>\n",
       "      <th>id</th>\n",
       "      <th>Store</th>\n",
       "      <th>Temperature</th>\n",
       "      <th>Fuel_Price</th>\n",
       "      <th>Promotion1</th>\n",
       "      <th>Promotion2</th>\n",
       "      <th>Promotion3</th>\n",
       "      <th>Promotion4</th>\n",
       "      <th>Promotion5</th>\n",
       "      <th>Unemployment</th>\n",
       "      <th>Weekly_Sales</th>\n",
       "    </tr>\n",
       "  </thead>\n",
       "  <tbody>\n",
       "    <tr>\n",
       "      <th>count</th>\n",
       "      <td>6255.000000</td>\n",
       "      <td>6255.000000</td>\n",
       "      <td>6255.000000</td>\n",
       "      <td>6255.000000</td>\n",
       "      <td>2102.000000</td>\n",
       "      <td>1592.000000</td>\n",
       "      <td>1885.000000</td>\n",
       "      <td>1819.000000</td>\n",
       "      <td>2115.000000</td>\n",
       "      <td>6255.000000</td>\n",
       "      <td>6.255000e+03</td>\n",
       "    </tr>\n",
       "    <tr>\n",
       "      <th>mean</th>\n",
       "      <td>3128.000000</td>\n",
       "      <td>23.000000</td>\n",
       "      <td>60.639199</td>\n",
       "      <td>3.344369</td>\n",
       "      <td>7155.930661</td>\n",
       "      <td>3308.125810</td>\n",
       "      <td>1462.535523</td>\n",
       "      <td>3465.952501</td>\n",
       "      <td>4518.993173</td>\n",
       "      <td>8.029236</td>\n",
       "      <td>1.047619e+06</td>\n",
       "    </tr>\n",
       "    <tr>\n",
       "      <th>std</th>\n",
       "      <td>1805.807299</td>\n",
       "      <td>12.988211</td>\n",
       "      <td>18.624094</td>\n",
       "      <td>0.455364</td>\n",
       "      <td>8408.206085</td>\n",
       "      <td>9382.823804</td>\n",
       "      <td>9667.580258</td>\n",
       "      <td>6413.116294</td>\n",
       "      <td>6048.661908</td>\n",
       "      <td>1.874875</td>\n",
       "      <td>5.654362e+05</td>\n",
       "    </tr>\n",
       "    <tr>\n",
       "      <th>min</th>\n",
       "      <td>1.000000</td>\n",
       "      <td>1.000000</td>\n",
       "      <td>-2.060000</td>\n",
       "      <td>2.472000</td>\n",
       "      <td>0.270000</td>\n",
       "      <td>-265.760000</td>\n",
       "      <td>-29.100000</td>\n",
       "      <td>0.410000</td>\n",
       "      <td>135.160000</td>\n",
       "      <td>4.077000</td>\n",
       "      <td>2.099862e+05</td>\n",
       "    </tr>\n",
       "    <tr>\n",
       "      <th>25%</th>\n",
       "      <td>1564.500000</td>\n",
       "      <td>12.000000</td>\n",
       "      <td>47.170000</td>\n",
       "      <td>2.917000</td>\n",
       "      <td>1844.295000</td>\n",
       "      <td>39.755000</td>\n",
       "      <td>4.700000</td>\n",
       "      <td>499.895000</td>\n",
       "      <td>1742.305000</td>\n",
       "      <td>6.916500</td>\n",
       "      <td>5.538695e+05</td>\n",
       "    </tr>\n",
       "    <tr>\n",
       "      <th>50%</th>\n",
       "      <td>3128.000000</td>\n",
       "      <td>23.000000</td>\n",
       "      <td>62.720000</td>\n",
       "      <td>3.413000</td>\n",
       "      <td>5221.140000</td>\n",
       "      <td>205.410000</td>\n",
       "      <td>24.600000</td>\n",
       "      <td>1532.630000</td>\n",
       "      <td>3226.410000</td>\n",
       "      <td>7.906000</td>\n",
       "      <td>9.604761e+05</td>\n",
       "    </tr>\n",
       "    <tr>\n",
       "      <th>75%</th>\n",
       "      <td>4691.500000</td>\n",
       "      <td>34.000000</td>\n",
       "      <td>75.220000</td>\n",
       "      <td>3.722000</td>\n",
       "      <td>9199.242500</td>\n",
       "      <td>1931.005000</td>\n",
       "      <td>104.010000</td>\n",
       "      <td>3640.905000</td>\n",
       "      <td>5444.030000</td>\n",
       "      <td>8.622000</td>\n",
       "      <td>1.421209e+06</td>\n",
       "    </tr>\n",
       "    <tr>\n",
       "      <th>max</th>\n",
       "      <td>6255.000000</td>\n",
       "      <td>45.000000</td>\n",
       "      <td>100.140000</td>\n",
       "      <td>4.308000</td>\n",
       "      <td>88646.760000</td>\n",
       "      <td>104519.540000</td>\n",
       "      <td>141630.610000</td>\n",
       "      <td>67474.850000</td>\n",
       "      <td>108519.280000</td>\n",
       "      <td>14.313000</td>\n",
       "      <td>3.818686e+06</td>\n",
       "    </tr>\n",
       "  </tbody>\n",
       "</table>\n",
       "</div>"
      ],
      "text/plain": [
       "                id        Store  Temperature   Fuel_Price    Promotion1  \\\n",
       "count  6255.000000  6255.000000  6255.000000  6255.000000   2102.000000   \n",
       "mean   3128.000000    23.000000    60.639199     3.344369   7155.930661   \n",
       "std    1805.807299    12.988211    18.624094     0.455364   8408.206085   \n",
       "min       1.000000     1.000000    -2.060000     2.472000      0.270000   \n",
       "25%    1564.500000    12.000000    47.170000     2.917000   1844.295000   \n",
       "50%    3128.000000    23.000000    62.720000     3.413000   5221.140000   \n",
       "75%    4691.500000    34.000000    75.220000     3.722000   9199.242500   \n",
       "max    6255.000000    45.000000   100.140000     4.308000  88646.760000   \n",
       "\n",
       "          Promotion2     Promotion3    Promotion4     Promotion5  \\\n",
       "count    1592.000000    1885.000000   1819.000000    2115.000000   \n",
       "mean     3308.125810    1462.535523   3465.952501    4518.993173   \n",
       "std      9382.823804    9667.580258   6413.116294    6048.661908   \n",
       "min      -265.760000     -29.100000      0.410000     135.160000   \n",
       "25%        39.755000       4.700000    499.895000    1742.305000   \n",
       "50%       205.410000      24.600000   1532.630000    3226.410000   \n",
       "75%      1931.005000     104.010000   3640.905000    5444.030000   \n",
       "max    104519.540000  141630.610000  67474.850000  108519.280000   \n",
       "\n",
       "       Unemployment  Weekly_Sales  \n",
       "count   6255.000000  6.255000e+03  \n",
       "mean       8.029236  1.047619e+06  \n",
       "std        1.874875  5.654362e+05  \n",
       "min        4.077000  2.099862e+05  \n",
       "25%        6.916500  5.538695e+05  \n",
       "50%        7.906000  9.604761e+05  \n",
       "75%        8.622000  1.421209e+06  \n",
       "max       14.313000  3.818686e+06  "
      ]
     },
     "execution_count": 4,
     "metadata": {},
     "output_type": "execute_result"
    }
   ],
   "source": [
    "train.describe()"
   ]
  },
  {
   "cell_type": "code",
   "execution_count": 5,
   "id": "5db5cff0-c521-41a3-92c1-f9156af82bf6",
   "metadata": {},
   "outputs": [],
   "source": [
    "train_df = train.copy()"
   ]
  },
  {
   "cell_type": "markdown",
   "id": "09d27482-69b9-4ef7-9a47-d79b7b80d15d",
   "metadata": {},
   "source": [
    "## 데이터 시각화 "
   ]
  },
  {
   "cell_type": "markdown",
   "id": "0442f0fb-2d0d-410e-99b2-77f7c92e19ff",
   "metadata": {},
   "source": [
    "### 결측치 확인"
   ]
  },
  {
   "cell_type": "markdown",
   "id": "ddfa8337-57c6-42aa-ac89-57eecd0c5c1f",
   "metadata": {},
   "source": [
    "### 이상치 확인하기"
   ]
  },
  {
   "cell_type": "code",
   "execution_count": 6,
   "id": "5a4e522f-8af2-4b1f-bfca-8e45b3e12273",
   "metadata": {},
   "outputs": [],
   "source": [
    "#train_df['Store'].value_counts()"
   ]
  },
  {
   "cell_type": "code",
   "execution_count": 7,
   "id": "58af6baa-059e-40cf-9dcf-703a1b450132",
   "metadata": {},
   "outputs": [
    {
     "name": "stderr",
     "output_type": "stream",
     "text": [
      "C:\\Users\\human\\Desktop\\mlops_sam\\venv\\lib\\site-packages\\seaborn\\_decorators.py:36: FutureWarning: Pass the following variable as a keyword arg: x. From version 0.12, the only valid positional argument will be `data`, and passing other arguments without an explicit keyword will result in an error or misinterpretation.\n",
      "  warnings.warn(\n",
      "C:\\Users\\human\\Desktop\\mlops_sam\\venv\\lib\\site-packages\\seaborn\\_decorators.py:36: FutureWarning: Pass the following variable as a keyword arg: x. From version 0.12, the only valid positional argument will be `data`, and passing other arguments without an explicit keyword will result in an error or misinterpretation.\n",
      "  warnings.warn(\n",
      "C:\\Users\\human\\Desktop\\mlops_sam\\venv\\lib\\site-packages\\seaborn\\_decorators.py:36: FutureWarning: Pass the following variable as a keyword arg: x. From version 0.12, the only valid positional argument will be `data`, and passing other arguments without an explicit keyword will result in an error or misinterpretation.\n",
      "  warnings.warn(\n",
      "C:\\Users\\human\\Desktop\\mlops_sam\\venv\\lib\\site-packages\\seaborn\\_decorators.py:36: FutureWarning: Pass the following variable as a keyword arg: x. From version 0.12, the only valid positional argument will be `data`, and passing other arguments without an explicit keyword will result in an error or misinterpretation.\n",
      "  warnings.warn(\n"
     ]
    },
    {
     "data": {
      "text/plain": [
       "<AxesSubplot:xlabel='Promotion4'>"
      ]
     },
     "execution_count": 7,
     "metadata": {},
     "output_type": "execute_result"
    },
    {
     "data": {
      "image/png": "[encoded data removed]",
      "text/plain": [
       "<Figure size 1080x576 with 4 Axes>"
      ]
     },
     "metadata": {
      "needs_background": "light"
     },
     "output_type": "display_data"
    }
   ],
   "source": [
    "fig, ax = plt.subplots(2,2,figsize=(15,8))\n",
    "sns.boxplot('Promotion1',data=train_df,ax=ax[0,0])\n",
    "sns.boxplot('Promotion2',data=train_df,ax=ax[0,1])\n",
    "sns.boxplot('Promotion3',data=train_df,ax=ax[1,0])\n",
    "sns.boxplot('Promotion4',data=train_df,ax=ax[1,1])"
   ]
  },
  {
   "cell_type": "code",
   "execution_count": 8,
   "id": "f0e71bd5-f6ff-48fc-9841-f89ea1ead9b4",
   "metadata": {},
   "outputs": [
    {
     "name": "stderr",
     "output_type": "stream",
     "text": [
      "C:\\Users\\human\\Desktop\\mlops_sam\\venv\\lib\\site-packages\\seaborn\\_decorators.py:36: FutureWarning: Pass the following variable as a keyword arg: x. From version 0.12, the only valid positional argument will be `data`, and passing other arguments without an explicit keyword will result in an error or misinterpretation.\n",
      "  warnings.warn(\n"
     ]
    },
    {
     "data": {
      "text/plain": [
       "<AxesSubplot:xlabel='Temperature'>"
      ]
     },
     "execution_count": 8,
     "metadata": {},
     "output_type": "execute_result"
    },
    {
     "data": {
      "image/png": "[encoded data removed]",
      "text/plain": [
       "<Figure size 432x288 with 1 Axes>"
      ]
     },
     "metadata": {
      "needs_background": "light"
     },
     "output_type": "display_data"
    }
   ],
   "source": [
    "fig, ax = plt.subplots()\n",
    "sns.boxplot('Temperature',data=train_df)"
   ]
  },
  {
   "cell_type": "code",
   "execution_count": 9,
   "id": "289517e8-776d-4e00-b278-0518f77e0410",
   "metadata": {},
   "outputs": [
    {
     "name": "stderr",
     "output_type": "stream",
     "text": [
      "C:\\Users\\human\\Desktop\\mlops_sam\\venv\\lib\\site-packages\\seaborn\\_decorators.py:36: FutureWarning: Pass the following variable as a keyword arg: x. From version 0.12, the only valid positional argument will be `data`, and passing other arguments without an explicit keyword will result in an error or misinterpretation.\n",
      "  warnings.warn(\n"
     ]
    },
    {
     "data": {
      "text/plain": [
       "<AxesSubplot:xlabel='Fuel_Price'>"
      ]
     },
     "execution_count": 9,
     "metadata": {},
     "output_type": "execute_result"
    },
    {
     "data": {
      "image/png": "[encoded data removed]",
      "text/plain": [
       "<Figure size 432x288 with 1 Axes>"
      ]
     },
     "metadata": {
      "needs_background": "light"
     },
     "output_type": "display_data"
    }
   ],
   "source": [
    "fig, ax = plt.subplots()\n",
    "sns.boxplot('Fuel_Price',data=train_df)"
   ]
  },
  {
   "cell_type": "code",
   "execution_count": 10,
   "id": "f4890b96-38aa-437d-a477-4d1dfe3f1597",
   "metadata": {},
   "outputs": [
    {
     "name": "stderr",
     "output_type": "stream",
     "text": [
      "C:\\Users\\human\\Desktop\\mlops_sam\\venv\\lib\\site-packages\\seaborn\\_decorators.py:36: FutureWarning: Pass the following variable as a keyword arg: x. From version 0.12, the only valid positional argument will be `data`, and passing other arguments without an explicit keyword will result in an error or misinterpretation.\n",
      "  warnings.warn(\n"
     ]
    },
    {
     "data": {
      "text/plain": [
       "<AxesSubplot:xlabel='Unemployment'>"
      ]
     },
     "execution_count": 10,
     "metadata": {},
     "output_type": "execute_result"
    },
    {
     "data": {
      "image/png": "[encoded data removed]",
      "text/plain": [
       "<Figure size 432x288 with 1 Axes>"
      ]
     },
     "metadata": {
      "needs_background": "light"
     },
     "output_type": "display_data"
    }
   ],
   "source": [
    "sns.boxplot('Unemployment',data=train_df)"
   ]
  },
  {
   "cell_type": "code",
   "execution_count": 11,
   "id": "1a2fb322-fec3-43fc-a5ee-1822e0b633b7",
   "metadata": {},
   "outputs": [
    {
     "name": "stderr",
     "output_type": "stream",
     "text": [
      "C:\\Users\\human\\Desktop\\mlops_sam\\venv\\lib\\site-packages\\seaborn\\_decorators.py:36: FutureWarning: Pass the following variable as a keyword arg: x. From version 0.12, the only valid positional argument will be `data`, and passing other arguments without an explicit keyword will result in an error or misinterpretation.\n",
      "  warnings.warn(\n"
     ]
    },
    {
     "data": {
      "text/plain": [
       "<AxesSubplot:xlabel='Weekly_Sales'>"
      ]
     },
     "execution_count": 11,
     "metadata": {},
     "output_type": "execute_result"
    },
    {
     "data": {
      "image/png": "[encoded data removed]",
      "text/plain": [
       "<Figure size 432x288 with 1 Axes>"
      ]
     },
     "metadata": {
      "needs_background": "light"
     },
     "output_type": "display_data"
    }
   ],
   "source": [
    "sns.boxplot('Weekly_Sales',data=train_df)"
   ]
  },
  {
   "cell_type": "markdown",
   "id": "65f7231e-19b5-4901-83b5-7c9ffda97922",
   "metadata": {},
   "source": [
    "### 종속변수(Weekly_Sales) 분포확인"
   ]
  },
  {
   "cell_type": "code",
   "execution_count": 12,
   "id": "54911a48-604a-412d-82d6-e388651e40d5",
   "metadata": {},
   "outputs": [
    {
     "name": "stderr",
     "output_type": "stream",
     "text": [
      "C:\\Users\\human\\Desktop\\mlops_sam\\venv\\lib\\site-packages\\seaborn\\distributions.py:2619: FutureWarning: `distplot` is a deprecated function and will be removed in a future version. Please adapt your code to use either `displot` (a figure-level function with similar flexibility) or `histplot` (an axes-level function for histograms).\n",
      "  warnings.warn(msg, FutureWarning)\n"
     ]
    },
    {
     "data": {
      "text/plain": [
       "<AxesSubplot:xlabel='Weekly_Sales', ylabel='Density'>"
      ]
     },
     "execution_count": 12,
     "metadata": {},
     "output_type": "execute_result"
    },
    {
     "data": {
      "image/png": "[encoded data removed]",
      "text/plain": [
       "<Figure size 432x288 with 1 Axes>"
      ]
     },
     "metadata": {
      "needs_background": "light"
     },
     "output_type": "display_data"
    }
   ],
   "source": [
    "sns.distplot(train['Weekly_Sales'])"
   ]
  },
  {
   "cell_type": "markdown",
   "id": "7692ac9a-7920-4d02-a535-4dae04f58310",
   "metadata": {},
   "source": [
    "### Store별 Weekly_Sales"
   ]
  },
  {
   "cell_type": "code",
   "execution_count": 13,
   "id": "cbcf71e5-1962-4bb4-90a7-c7253599ceb1",
   "metadata": {},
   "outputs": [
    {
     "data": {
      "image/png": "[encoded data removed]",
      "text/plain": [
       "<Figure size 432x288 with 1 Axes>"
      ]
     },
     "metadata": {
      "needs_background": "light"
     },
     "output_type": "display_data"
    }
   ],
   "source": [
    "plt.hist(train[train.Store==1].Weekly_Sales, bins=50)\n",
    "plt.hist(train[train.Store==2].Weekly_Sales, bins=50)\n",
    "plt.hist(train[train.Store==3].Weekly_Sales, bins=50)\n",
    "plt.hist(train[train.Store==4].Weekly_Sales, bins=50)\n",
    "plt.hist(train[train.Store==5].Weekly_Sales, bins=50)\n",
    "plt.legend(['Store 1','Store 2','Store 3','Store 4','Store 5'])\n",
    "plt.show()"
   ]
  },
  {
   "cell_type": "code",
   "execution_count": 22,
   "id": "f6ae0154-040a-472c-a04e-4f5ab939ab09",
   "metadata": {},
   "outputs": [
    {
     "data": {
      "text/html": [
       "<div>\n",
       "<style scoped>\n",
       "    .dataframe tbody tr th:only-of-type {\n",
       "        vertical-align: middle;\n",
       "    }\n",
       "\n",
       "    .dataframe tbody tr th {\n",
       "        vertical-align: top;\n",
       "    }\n",
       "\n",
       "    .dataframe thead th {\n",
       "        text-align: right;\n",
       "    }\n",
       "</style>\n",
       "<table border=\"1\" class=\"dataframe\">\n",
       "  <thead>\n",
       "    <tr style=\"text-align: right;\">\n",
       "      <th></th>\n",
       "      <th>Date</th>\n",
       "      <th>Temperature</th>\n",
       "      <th>Fuel_Price</th>\n",
       "      <th>Promotion1</th>\n",
       "      <th>Promotion2</th>\n",
       "      <th>Promotion3</th>\n",
       "      <th>Promotion4</th>\n",
       "      <th>Promotion5</th>\n",
       "      <th>Unemployment</th>\n",
       "      <th>IsHoliday</th>\n",
       "      <th>Weekly_Sales</th>\n",
       "    </tr>\n",
       "  </thead>\n",
       "  <tbody>\n",
       "    <tr>\n",
       "      <th>0</th>\n",
       "      <td>05/02/2010</td>\n",
       "      <td>42.31</td>\n",
       "      <td>2.572</td>\n",
       "      <td>0.0</td>\n",
       "      <td>0.0</td>\n",
       "      <td>0.0</td>\n",
       "      <td>0.0</td>\n",
       "      <td>0.0</td>\n",
       "      <td>8.106</td>\n",
       "      <td>False</td>\n",
       "      <td>1643690.90</td>\n",
       "    </tr>\n",
       "    <tr>\n",
       "      <th>1</th>\n",
       "      <td>12/02/2010</td>\n",
       "      <td>38.51</td>\n",
       "      <td>2.548</td>\n",
       "      <td>0.0</td>\n",
       "      <td>0.0</td>\n",
       "      <td>0.0</td>\n",
       "      <td>0.0</td>\n",
       "      <td>0.0</td>\n",
       "      <td>8.106</td>\n",
       "      <td>True</td>\n",
       "      <td>1641957.44</td>\n",
       "    </tr>\n",
       "    <tr>\n",
       "      <th>2</th>\n",
       "      <td>19/02/2010</td>\n",
       "      <td>39.93</td>\n",
       "      <td>2.514</td>\n",
       "      <td>0.0</td>\n",
       "      <td>0.0</td>\n",
       "      <td>0.0</td>\n",
       "      <td>0.0</td>\n",
       "      <td>0.0</td>\n",
       "      <td>8.106</td>\n",
       "      <td>False</td>\n",
       "      <td>1611968.17</td>\n",
       "    </tr>\n",
       "    <tr>\n",
       "      <th>3</th>\n",
       "      <td>26/02/2010</td>\n",
       "      <td>46.63</td>\n",
       "      <td>2.561</td>\n",
       "      <td>0.0</td>\n",
       "      <td>0.0</td>\n",
       "      <td>0.0</td>\n",
       "      <td>0.0</td>\n",
       "      <td>0.0</td>\n",
       "      <td>8.106</td>\n",
       "      <td>False</td>\n",
       "      <td>1409727.59</td>\n",
       "    </tr>\n",
       "    <tr>\n",
       "      <th>4</th>\n",
       "      <td>05/03/2010</td>\n",
       "      <td>46.50</td>\n",
       "      <td>2.625</td>\n",
       "      <td>0.0</td>\n",
       "      <td>0.0</td>\n",
       "      <td>0.0</td>\n",
       "      <td>0.0</td>\n",
       "      <td>0.0</td>\n",
       "      <td>8.106</td>\n",
       "      <td>False</td>\n",
       "      <td>1554806.68</td>\n",
       "    </tr>\n",
       "  </tbody>\n",
       "</table>\n",
       "</div>"
      ],
      "text/plain": [
       "         Date  Temperature  Fuel_Price  Promotion1  Promotion2  Promotion3  \\\n",
       "0  05/02/2010        42.31       2.572         0.0         0.0         0.0   \n",
       "1  12/02/2010        38.51       2.548         0.0         0.0         0.0   \n",
       "2  19/02/2010        39.93       2.514         0.0         0.0         0.0   \n",
       "3  26/02/2010        46.63       2.561         0.0         0.0         0.0   \n",
       "4  05/03/2010        46.50       2.625         0.0         0.0         0.0   \n",
       "\n",
       "   Promotion4  Promotion5  Unemployment  IsHoliday  Weekly_Sales  \n",
       "0         0.0         0.0         8.106      False    1643690.90  \n",
       "1         0.0         0.0         8.106       True    1641957.44  \n",
       "2         0.0         0.0         8.106      False    1611968.17  \n",
       "3         0.0         0.0         8.106      False    1409727.59  \n",
       "4         0.0         0.0         8.106      False    1554806.68  "
      ]
     },
     "execution_count": 22,
     "metadata": {},
     "output_type": "execute_result"
    }
   ],
   "source": [
    "train_temp = train.drop(['id', 'Store'], axis = 1)\n",
    "train_temp.head()"
   ]
  },
  {
   "cell_type": "code",
   "execution_count": 16,
   "id": "27be7fb0-a333-49de-8c57-7587fa4a60c1",
   "metadata": {},
   "outputs": [
    {
     "data": {
      "text/html": [
       "<div>\n",
       "<style scoped>\n",
       "    .dataframe tbody tr th:only-of-type {\n",
       "        vertical-align: middle;\n",
       "    }\n",
       "\n",
       "    .dataframe tbody tr th {\n",
       "        vertical-align: top;\n",
       "    }\n",
       "\n",
       "    .dataframe thead th {\n",
       "        text-align: right;\n",
       "    }\n",
       "</style>\n",
       "<table border=\"1\" class=\"dataframe\">\n",
       "  <thead>\n",
       "    <tr style=\"text-align: right;\">\n",
       "      <th></th>\n",
       "      <th>id</th>\n",
       "      <th>Store</th>\n",
       "      <th>Temperature</th>\n",
       "      <th>Fuel_Price</th>\n",
       "      <th>Promotion1</th>\n",
       "      <th>Promotion2</th>\n",
       "      <th>Promotion3</th>\n",
       "      <th>Promotion4</th>\n",
       "      <th>Promotion5</th>\n",
       "      <th>Unemployment</th>\n",
       "      <th>IsHoliday</th>\n",
       "      <th>Weekly_Sales</th>\n",
       "    </tr>\n",
       "  </thead>\n",
       "  <tbody>\n",
       "    <tr>\n",
       "      <th>id</th>\n",
       "      <td>1.000000e+00</td>\n",
       "      <td>9.997531e-01</td>\n",
       "      <td>-0.019554</td>\n",
       "      <td>0.075666</td>\n",
       "      <td>-0.067558</td>\n",
       "      <td>-0.038281</td>\n",
       "      <td>-0.022976</td>\n",
       "      <td>-0.048207</td>\n",
       "      <td>-0.016319</td>\n",
       "      <td>0.218548</td>\n",
       "      <td>1.475431e-16</td>\n",
       "      <td>-0.335276</td>\n",
       "    </tr>\n",
       "    <tr>\n",
       "      <th>Store</th>\n",
       "      <td>9.997531e-01</td>\n",
       "      <td>1.000000e+00</td>\n",
       "      <td>-0.022895</td>\n",
       "      <td>0.058628</td>\n",
       "      <td>-0.078069</td>\n",
       "      <td>-0.041374</td>\n",
       "      <td>-0.024165</td>\n",
       "      <td>-0.054933</td>\n",
       "      <td>-0.025559</td>\n",
       "      <td>0.223808</td>\n",
       "      <td>1.547191e-16</td>\n",
       "      <td>-0.335569</td>\n",
       "    </tr>\n",
       "    <tr>\n",
       "      <th>Temperature</th>\n",
       "      <td>-1.955428e-02</td>\n",
       "      <td>-2.289476e-02</td>\n",
       "      <td>1.000000</td>\n",
       "      <td>0.148054</td>\n",
       "      <td>-0.036441</td>\n",
       "      <td>-0.179502</td>\n",
       "      <td>-0.056469</td>\n",
       "      <td>-0.056934</td>\n",
       "      <td>-0.021019</td>\n",
       "      <td>0.102688</td>\n",
       "      <td>-1.555954e-01</td>\n",
       "      <td>-0.063231</td>\n",
       "    </tr>\n",
       "    <tr>\n",
       "      <th>Fuel_Price</th>\n",
       "      <td>7.566586e-02</td>\n",
       "      <td>5.862843e-02</td>\n",
       "      <td>0.148054</td>\n",
       "      <td>1.000000</td>\n",
       "      <td>0.291737</td>\n",
       "      <td>0.035377</td>\n",
       "      <td>0.021070</td>\n",
       "      <td>0.165578</td>\n",
       "      <td>0.206377</td>\n",
       "      <td>-0.025728</td>\n",
       "      <td>-7.148479e-02</td>\n",
       "      <td>0.010986</td>\n",
       "    </tr>\n",
       "    <tr>\n",
       "      <th>Promotion1</th>\n",
       "      <td>-6.755750e-02</td>\n",
       "      <td>-7.806938e-02</td>\n",
       "      <td>-0.036441</td>\n",
       "      <td>0.291737</td>\n",
       "      <td>1.000000</td>\n",
       "      <td>0.179187</td>\n",
       "      <td>-0.011782</td>\n",
       "      <td>0.840906</td>\n",
       "      <td>0.418595</td>\n",
       "      <td>-0.109561</td>\n",
       "      <td>-1.778345e-03</td>\n",
       "      <td>0.174760</td>\n",
       "    </tr>\n",
       "    <tr>\n",
       "      <th>Promotion2</th>\n",
       "      <td>-3.828072e-02</td>\n",
       "      <td>-4.137416e-02</td>\n",
       "      <td>-0.179502</td>\n",
       "      <td>0.035377</td>\n",
       "      <td>0.179187</td>\n",
       "      <td>1.000000</td>\n",
       "      <td>-0.005463</td>\n",
       "      <td>0.116013</td>\n",
       "      <td>0.137243</td>\n",
       "      <td>-0.045741</td>\n",
       "      <td>1.993897e-01</td>\n",
       "      <td>0.080928</td>\n",
       "    </tr>\n",
       "    <tr>\n",
       "      <th>Promotion3</th>\n",
       "      <td>-2.297640e-02</td>\n",
       "      <td>-2.416481e-02</td>\n",
       "      <td>-0.056469</td>\n",
       "      <td>0.021070</td>\n",
       "      <td>-0.011782</td>\n",
       "      <td>-0.005463</td>\n",
       "      <td>1.000000</td>\n",
       "      <td>-0.010385</td>\n",
       "      <td>0.045084</td>\n",
       "      <td>-0.020090</td>\n",
       "      <td>2.563126e-01</td>\n",
       "      <td>0.121613</td>\n",
       "    </tr>\n",
       "    <tr>\n",
       "      <th>Promotion4</th>\n",
       "      <td>-4.820734e-02</td>\n",
       "      <td>-5.493336e-02</td>\n",
       "      <td>-0.056934</td>\n",
       "      <td>0.165578</td>\n",
       "      <td>0.840906</td>\n",
       "      <td>0.116013</td>\n",
       "      <td>-0.010385</td>\n",
       "      <td>1.000000</td>\n",
       "      <td>0.306171</td>\n",
       "      <td>-0.080454</td>\n",
       "      <td>1.116521e-02</td>\n",
       "      <td>0.136850</td>\n",
       "    </tr>\n",
       "    <tr>\n",
       "      <th>Promotion5</th>\n",
       "      <td>-1.631912e-02</td>\n",
       "      <td>-2.555857e-02</td>\n",
       "      <td>-0.021019</td>\n",
       "      <td>0.206377</td>\n",
       "      <td>0.418595</td>\n",
       "      <td>0.137243</td>\n",
       "      <td>0.045084</td>\n",
       "      <td>0.306171</td>\n",
       "      <td>1.000000</td>\n",
       "      <td>-0.116473</td>\n",
       "      <td>-1.139007e-02</td>\n",
       "      <td>0.167161</td>\n",
       "    </tr>\n",
       "    <tr>\n",
       "      <th>Unemployment</th>\n",
       "      <td>2.185480e-01</td>\n",
       "      <td>2.238084e-01</td>\n",
       "      <td>0.102688</td>\n",
       "      <td>-0.025728</td>\n",
       "      <td>-0.109561</td>\n",
       "      <td>-0.045741</td>\n",
       "      <td>-0.020090</td>\n",
       "      <td>-0.080454</td>\n",
       "      <td>-0.116473</td>\n",
       "      <td>1.000000</td>\n",
       "      <td>6.666948e-03</td>\n",
       "      <td>-0.107331</td>\n",
       "    </tr>\n",
       "    <tr>\n",
       "      <th>IsHoliday</th>\n",
       "      <td>1.475431e-16</td>\n",
       "      <td>1.547191e-16</td>\n",
       "      <td>-0.155595</td>\n",
       "      <td>-0.071485</td>\n",
       "      <td>-0.001778</td>\n",
       "      <td>0.199390</td>\n",
       "      <td>0.256313</td>\n",
       "      <td>0.011165</td>\n",
       "      <td>-0.011390</td>\n",
       "      <td>0.006667</td>\n",
       "      <td>1.000000e+00</td>\n",
       "      <td>0.037066</td>\n",
       "    </tr>\n",
       "    <tr>\n",
       "      <th>Weekly_Sales</th>\n",
       "      <td>-3.352762e-01</td>\n",
       "      <td>-3.355685e-01</td>\n",
       "      <td>-0.063231</td>\n",
       "      <td>0.010986</td>\n",
       "      <td>0.174760</td>\n",
       "      <td>0.080928</td>\n",
       "      <td>0.121613</td>\n",
       "      <td>0.136850</td>\n",
       "      <td>0.167161</td>\n",
       "      <td>-0.107331</td>\n",
       "      <td>3.706563e-02</td>\n",
       "      <td>1.000000</td>\n",
       "    </tr>\n",
       "  </tbody>\n",
       "</table>\n",
       "</div>"
      ],
      "text/plain": [
       "                        id         Store  Temperature  Fuel_Price  Promotion1  \\\n",
       "id            1.000000e+00  9.997531e-01    -0.019554    0.075666   -0.067558   \n",
       "Store         9.997531e-01  1.000000e+00    -0.022895    0.058628   -0.078069   \n",
       "Temperature  -1.955428e-02 -2.289476e-02     1.000000    0.148054   -0.036441   \n",
       "Fuel_Price    7.566586e-02  5.862843e-02     0.148054    1.000000    0.291737   \n",
       "Promotion1   -6.755750e-02 -7.806938e-02    -0.036441    0.291737    1.000000   \n",
       "Promotion2   -3.828072e-02 -4.137416e-02    -0.179502    0.035377    0.179187   \n",
       "Promotion3   -2.297640e-02 -2.416481e-02    -0.056469    0.021070   -0.011782   \n",
       "Promotion4   -4.820734e-02 -5.493336e-02    -0.056934    0.165578    0.840906   \n",
       "Promotion5   -1.631912e-02 -2.555857e-02    -0.021019    0.206377    0.418595   \n",
       "Unemployment  2.185480e-01  2.238084e-01     0.102688   -0.025728   -0.109561   \n",
       "IsHoliday     1.475431e-16  1.547191e-16    -0.155595   -0.071485   -0.001778   \n",
       "Weekly_Sales -3.352762e-01 -3.355685e-01    -0.063231    0.010986    0.174760   \n",
       "\n",
       "              Promotion2  Promotion3  Promotion4  Promotion5  Unemployment  \\\n",
       "id             -0.038281   -0.022976   -0.048207   -0.016319      0.218548   \n",
       "Store          -0.041374   -0.024165   -0.054933   -0.025559      0.223808   \n",
       "Temperature    -0.179502   -0.056469   -0.056934   -0.021019      0.102688   \n",
       "Fuel_Price      0.035377    0.021070    0.165578    0.206377     -0.025728   \n",
       "Promotion1      0.179187   -0.011782    0.840906    0.418595     -0.109561   \n",
       "Promotion2      1.000000   -0.005463    0.116013    0.137243     -0.045741   \n",
       "Promotion3     -0.005463    1.000000   -0.010385    0.045084     -0.020090   \n",
       "Promotion4      0.116013   -0.010385    1.000000    0.306171     -0.080454   \n",
       "Promotion5      0.137243    0.045084    0.306171    1.000000     -0.116473   \n",
       "Unemployment   -0.045741   -0.020090   -0.080454   -0.116473      1.000000   \n",
       "IsHoliday       0.199390    0.256313    0.011165   -0.011390      0.006667   \n",
       "Weekly_Sales    0.080928    0.121613    0.136850    0.167161     -0.107331   \n",
       "\n",
       "                 IsHoliday  Weekly_Sales  \n",
       "id            1.475431e-16     -0.335276  \n",
       "Store         1.547191e-16     -0.335569  \n",
       "Temperature  -1.555954e-01     -0.063231  \n",
       "Fuel_Price   -7.148479e-02      0.010986  \n",
       "Promotion1   -1.778345e-03      0.174760  \n",
       "Promotion2    1.993897e-01      0.080928  \n",
       "Promotion3    2.563126e-01      0.121613  \n",
       "Promotion4    1.116521e-02      0.136850  \n",
       "Promotion5   -1.139007e-02      0.167161  \n",
       "Unemployment  6.666948e-03     -0.107331  \n",
       "IsHoliday     1.000000e+00      0.037066  \n",
       "Weekly_Sales  3.706563e-02      1.000000  "
      ]
     },
     "execution_count": 16,
     "metadata": {},
     "output_type": "execute_result"
    }
   ],
   "source": [
    "train = train.fillna(0)\n",
    "train.corr()"
   ]
  },
  {
   "cell_type": "code",
   "execution_count": 23,
   "id": "eb024465-28f2-469d-baaa-e1a560842bc1",
   "metadata": {},
   "outputs": [
    {
     "data": {
      "text/plain": [
       "<AxesSubplot:>"
      ]
     },
     "execution_count": 23,
     "metadata": {},
     "output_type": "execute_result"
    },
    {
     "data": {
      "image/png": "[encoded data removed]",
      "text/plain": [
       "<Figure size 1080x576 with 2 Axes>"
      ]
     },
     "metadata": {
      "needs_background": "light"
     },
     "output_type": "display_data"
    }
   ],
   "source": [
    "fig, ax =plt.subplots(figsize=(15,8))\n",
    "sns.heatmap(train.corr(),annot=True)"
   ]
  },
  {
   "cell_type": "markdown",
   "id": "8b705ee6-5607-44ae-8238-f603d69734ad",
   "metadata": {},
   "source": [
    "- 프로모션 1,2,3,4의 결측치는 어떤경우들이 있을까?\n",
    "    - 각각의 매장별로 2011년 11월 11일이전에는 전부 결측치이다\n",
    "        - 이는 프로모션을 진행안한경우일까?\n",
    "        - 나는 진행안한경우라고 생각하고 0을 때려박는다\n",
    "    - 2011년 11월 11일 이후에는 프로모션을 진행했다고 생각한다.\n",
    "        - 그치만 이경우에도 결측치가 존재한다\n",
    "            - 진행을 안한날인가? 빼먹은걸까?\n",
    "        - 결측치가 몇주연속인날도있다\n",
    "            - 이경우에는 진짜 무엇?\n",
    "- 프로모션 1,2,3,4의 경우 이상치도 많음을 확인\n",
    "     - 이를 어찌 해결해야할까?\n",
    "         - 스케일링기법을 사용해야된다\n",
    "             - 어떤스케일링?\n",
    "- unemployment(실업률)의 경우 아주 지멋대로인것을 확인할 수 있다. 또한 조금의 영향을 끼짐\n",
    "    - 추후에 컬럼 삭제 유무에 따른 정확도 확인필요\n",
    "- store마다 Weekly_Sales의 분포가 다름을 확인할수 있다\n",
    "- Weekly_Sales의 값이 대체로 작은쪽에 분포되어 있다.\n",
    "- Fuel_Price의 경우 지 멋대로이고 Weekly_Sales에 큰 영향을 안줌을 확인\n",
    "    - 추후에 컬럼 삭제 유무에 따른 정확도 확인필요\n",
    "- id값은 고유번호이므로 훈련모델에 사용하지않으니 컬럼 삭제\n",
    "- 규칙적인 값은 Store와 IsHoliday 뿐\n",
    "- 날짜 Date의 처리\n",
    "    - 판다스 datetime사용\n",
    "    - 년월일로 나눌것인가 아니면 년월로만 나눌것인가 \n",
    "        - Weekly_sales니까 month까지? day까지?\n",
    "        - day까지 나눈 후 날짜는 고정된 값이니까 day범위별로 Week 구간나누기 가능\n",
    "            - 1,2,3,4필요하면 5까지\n",
    "- IsHoliday의 True, False값을 1과 0으로 인코딩해주기"
   ]
  },
  {
   "cell_type": "code",
   "execution_count": null,
   "id": "6a0857a6-dd24-475f-a885-09c7d1a279f8",
   "metadata": {},
   "outputs": [],
   "source": []
  }
 ],
 "metadata": {
  "kernelspec": {
   "display_name": "Python 3 (ipykernel)",
   "language": "python",
   "name": "python3"
  },
  "language_info": {
   "codemirror_mode": {
    "name": "ipython",
    "version": 3
   },
   "file_extension": ".py",
   "mimetype": "text/x-python",
   "name": "python",
   "nbconvert_exporter": "python",
   "pygments_lexer": "ipython3",
   "version": "3.8.8"
  }
 },
 "nbformat": 4,
 "nbformat_minor": 5
}
